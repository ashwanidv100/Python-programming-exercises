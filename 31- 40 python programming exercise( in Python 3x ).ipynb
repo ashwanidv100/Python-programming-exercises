{
  "nbformat": 4,
  "nbformat_minor": 0,
  "metadata": {
    "colab": {
      "name": "31-40 python programming exercise( in Python 3x ).ipynb",
      "provenance": [],
      "collapsed_sections": [],
      "authorship_tag": "ABX9TyOhxzOfwxdUnZIcKsEX0ERt"
    },
    "kernelspec": {
      "name": "python3",
      "display_name": "Python 3"
    }
  },
  "cells": [
    {
      "cell_type": "markdown",
      "metadata": {
        "id": "fZtM3nNugzLE"
      },
      "source": [
        "# **Question 31:**\n",
        "Define a function that can accept an integer number as input and \n",
        "print the \"It is an even number\" if the number is even, \n",
        "otherwise print \"It is an odd number\".\n",
        "\n",
        "**Hints:\n",
        "Use % operator to check if a number is even or odd.**"
      ]
    },
    {
      "cell_type": "markdown",
      "metadata": {
        "id": "elDhYzhOnLZD"
      },
      "source": [
        "# **Solution:**"
      ]
    },
    {
      "cell_type": "code",
      "metadata": {
        "id": "K1tT7VCpgdoH",
        "outputId": "4ebc3426-a4ed-4497-82d7-1982a14735dd",
        "colab": {
          "base_uri": "https://localhost:8080/",
          "height": 34
        }
      },
      "source": [
        "def checkValue(n):\n",
        "\tif n%2 == 0:\n",
        "\t\tprint(\"It is an even number\")\n",
        "\telse:\n",
        "\t\tprint(\"It is an odd number\")\n",
        "checkValue(7)"
      ],
      "execution_count": null,
      "outputs": [
        {
          "output_type": "stream",
          "text": [
            "It is an odd number\n"
          ],
          "name": "stdout"
        }
      ]
    },
    {
      "cell_type": "markdown",
      "metadata": {
        "id": "TNns17RAnlL-"
      },
      "source": [
        "# **Question 32:**\n",
        "Define a function which can print a dictionary where the keys are numbers between 1 and 3 (both included) and the values are square of keys.\n",
        "\n",
        "**Hints:\n",
        "Use dict[key]=value pattern to put entry into a dictionary.\n",
        "Use ** operator to get power of a number.**\n",
        "\n",
        "\n"
      ]
    },
    {
      "cell_type": "markdown",
      "metadata": {
        "id": "HPA-qgJsoEKm"
      },
      "source": [
        "# **Solution**"
      ]
    },
    {
      "cell_type": "code",
      "metadata": {
        "id": "K8OZnrCeoBr_",
        "outputId": "7fbb355a-8128-4f80-b653-fc9210db82bd",
        "colab": {
          "base_uri": "https://localhost:8080/",
          "height": 34
        }
      },
      "source": [
        "def printDict():\n",
        "\td=dict()\n",
        "\td[1]=1\n",
        "\td[2]=2**2\n",
        "\td[3]=3**2\n",
        "\tprint(d)\n",
        "printDict()"
      ],
      "execution_count": null,
      "outputs": [
        {
          "output_type": "stream",
          "text": [
            "{1: 1, 2: 4, 3: 9}\n"
          ],
          "name": "stdout"
        }
      ]
    },
    {
      "cell_type": "markdown",
      "metadata": {
        "id": "7pioZC01oeF7"
      },
      "source": [
        "# **Question 33:**\n",
        "Define a function which can print a dictionary where the keys are numbers between 1 and 20 (both included) and the values are square of keys.\n",
        "\n",
        "**Hints:\n",
        "Use dict[key]=value pattern to put entry into a dictionary.**\n",
        "**Use ** operator to get power of a number.**\n",
        "**Use range() for loops.**\n",
        "\n",
        "\n"
      ]
    },
    {
      "cell_type": "markdown",
      "metadata": {
        "id": "Ckj8UvcLoz-m"
      },
      "source": [
        "# **Solution:**"
      ]
    },
    {
      "cell_type": "code",
      "metadata": {
        "id": "3TblIpjdoju4",
        "outputId": "52aeb622-c84e-4fdf-899e-3309243e1cf5",
        "colab": {
          "base_uri": "https://localhost:8080/",
          "height": 34
        }
      },
      "source": [
        "def printDict():\n",
        "\td=dict()\n",
        "\tfor i in range(1,21):\n",
        "\t\td[i]=i**2\n",
        "\tprint(d)\n",
        "printDict()"
      ],
      "execution_count": null,
      "outputs": [
        {
          "output_type": "stream",
          "text": [
            "{1: 1, 2: 4, 3: 9, 4: 16, 5: 25, 6: 36, 7: 49, 8: 64, 9: 81, 10: 100, 11: 121, 12: 144, 13: 169, 14: 196, 15: 225, 16: 256, 17: 289, 18: 324, 19: 361, 20: 400}\n"
          ],
          "name": "stdout"
        }
      ]
    },
    {
      "cell_type": "markdown",
      "metadata": {
        "id": "yujiv_GZArXA"
      },
      "source": [
        "# **Question 34:**\n",
        "Define a function which can generate a dictionary where the keys are numbers between 1 and 20 (both included) and the values are square of keys. The function should just print the values only.\n",
        "\n",
        "**Hints:**\n",
        "**Use dict[key]=value pattern to put entry into a dictionary.**\n",
        "**Use ** operator to get power of a number.Use range() for loops.Use keys() to iterate keys in the dictionary. Also we can use item() to get key/value pairs.**\n",
        "\n",
        "\n"
      ]
    },
    {
      "cell_type": "markdown",
      "metadata": {
        "id": "Rj36SY0IAyv4"
      },
      "source": [
        "# **Solution:**"
      ]
    },
    {
      "cell_type": "code",
      "metadata": {
        "id": "K5eK0-glAu6O",
        "outputId": "5f4e7def-356f-42c4-add1-6d45d822c4d3",
        "colab": {
          "base_uri": "https://localhost:8080/",
          "height": 357
        }
      },
      "source": [
        "def printDict():\n",
        "\td=dict()\n",
        "\tfor i in range(1,21):\n",
        "\t\td[i]=i**2\n",
        "\tfor (k,v) in d.items():\t\n",
        "\t\tprint(v)\n",
        "printDict()"
      ],
      "execution_count": null,
      "outputs": [
        {
          "output_type": "stream",
          "text": [
            "1\n",
            "4\n",
            "9\n",
            "16\n",
            "25\n",
            "36\n",
            "49\n",
            "64\n",
            "81\n",
            "100\n",
            "121\n",
            "144\n",
            "169\n",
            "196\n",
            "225\n",
            "256\n",
            "289\n",
            "324\n",
            "361\n",
            "400\n"
          ],
          "name": "stdout"
        }
      ]
    },
    {
      "cell_type": "markdown",
      "metadata": {
        "id": "OeSUvdjDBjX5"
      },
      "source": [
        "# **Question 35:**\n",
        "Define a function which can generate a dictionary where the keys are numbers between 1 and 20 (both included) and the values are square of keys. The function should just print the keys only.\n",
        "\n",
        "**Hints:\n",
        "Use dict[key]=value pattern to put entry into a dictionary.\n",
        "Use ** operator to get power of a number.\n",
        "Use range() for loops.\n",
        "Use keys() to iterate keys in the dictionary. Also we can use item() to get key/value pairs.**\n"
      ]
    },
    {
      "cell_type": "markdown",
      "metadata": {
        "id": "xDq32yekBtGD"
      },
      "source": [
        "# **Solution:**"
      ]
    },
    {
      "cell_type": "code",
      "metadata": {
        "id": "cBeNk8_vBqcW",
        "outputId": "35f5bf55-1827-40d6-fde1-fcd8cec4012e",
        "colab": {
          "base_uri": "https://localhost:8080/",
          "height": 357
        }
      },
      "source": [
        "def printDict():\n",
        "\td=dict()\n",
        "\tfor i in range(1,21):\n",
        "\t\td[i]=i**2\n",
        "\tfor k in d.keys():\t\n",
        "\t\tprint(k)\n",
        "printDict()"
      ],
      "execution_count": null,
      "outputs": [
        {
          "output_type": "stream",
          "text": [
            "1\n",
            "2\n",
            "3\n",
            "4\n",
            "5\n",
            "6\n",
            "7\n",
            "8\n",
            "9\n",
            "10\n",
            "11\n",
            "12\n",
            "13\n",
            "14\n",
            "15\n",
            "16\n",
            "17\n",
            "18\n",
            "19\n",
            "20\n"
          ],
          "name": "stdout"
        }
      ]
    },
    {
      "cell_type": "markdown",
      "metadata": {
        "id": "hOh1kEx3CZ6Z"
      },
      "source": [
        "# **Question 36:**\n",
        "Define a function which can generate and print a list where the values are square of numbers between 1 and 20 (both included).\n",
        "\n",
        "**Hints:\n",
        "Use ** operator to get power of a number.\n",
        "Use range() for loops.\n",
        "Use list.append() to add values into a list.**\n"
      ]
    },
    {
      "cell_type": "markdown",
      "metadata": {
        "id": "b5-lxfcaCoVp"
      },
      "source": [
        "# **Solution:**"
      ]
    },
    {
      "cell_type": "code",
      "metadata": {
        "id": "RwZOaZMBChSR",
        "outputId": "2f2ac841-2106-4c8f-fbe0-3a6596064dcd",
        "colab": {
          "base_uri": "https://localhost:8080/",
          "height": 34
        }
      },
      "source": [
        "def printList():\n",
        "\tli=list()\n",
        "\tfor i in range(1,21):\n",
        "\t\tli.append(i**2)\n",
        "\tprint(li)\n",
        "printList()"
      ],
      "execution_count": 1,
      "outputs": [
        {
          "output_type": "stream",
          "text": [
            "[1, 4, 9, 16, 25, 36, 49, 64, 81, 100, 121, 144, 169, 196, 225, 256, 289, 324, 361, 400]\n"
          ],
          "name": "stdout"
        }
      ]
    },
    {
      "cell_type": "markdown",
      "metadata": {
        "id": "a8Wypfx0C3pf"
      },
      "source": [
        "# **Question 37:**\n",
        "Define a function which can generate a list where the values are square of numbers between 1 and 20 (both included). Then the function needs to print the first 5 elements in the list.\n",
        "\n",
        "**Hints:\n",
        "Use ** operator to get power of a number.\n",
        "Use range() for loops.\n",
        "Use list.append() to add values into a list.\n",
        "Use [n1:n2] to slice a list.**\n"
      ]
    },
    {
      "cell_type": "markdown",
      "metadata": {
        "id": "L6dEZlI3DtT6"
      },
      "source": [
        "# **Solution:**"
      ]
    },
    {
      "cell_type": "code",
      "metadata": {
        "id": "YLb0H7OhDoKP",
        "outputId": "3a259261-454c-4aef-beb3-5f88dd0efa43",
        "colab": {
          "base_uri": "https://localhost:8080/",
          "height": 34
        }
      },
      "source": [
        "def printList():\n",
        "\tli=list()\n",
        "\tfor i in range(1,21):\n",
        "\t\tli.append(i**2)\n",
        "\tprint(li[:5])\n",
        "printList()"
      ],
      "execution_count": 2,
      "outputs": [
        {
          "output_type": "stream",
          "text": [
            "[1, 4, 9, 16, 25]\n"
          ],
          "name": "stdout"
        }
      ]
    },
    {
      "cell_type": "markdown",
      "metadata": {
        "id": "Aijf-oP8DxkF"
      },
      "source": [
        "# **Question 38:**\n",
        "Define a function which can generate a list where the values are square of numbers between 1 and 20 (both included). Then the function needs to print the last 5 elements in the list.\n",
        "\n",
        "**Hints:\n",
        "Use ** operator to get power of a number.\n",
        "Use range() for loops.\n",
        "Use list.append() to add values into a list.Use [n1:n2] to slice a list.**\n",
        "\n",
        "\n"
      ]
    },
    {
      "cell_type": "markdown",
      "metadata": {
        "id": "lTqVFL5mD7iX"
      },
      "source": [
        "# **Solution:**"
      ]
    },
    {
      "cell_type": "code",
      "metadata": {
        "id": "tEXDsxf5D5J3",
        "outputId": "178b8395-bebd-4ef6-8229-8984296dc5b6",
        "colab": {
          "base_uri": "https://localhost:8080/",
          "height": 34
        }
      },
      "source": [
        "def printList():\n",
        "\tli=list()\n",
        "\tfor i in range(1,21):\n",
        "\t\tli.append(i**2)\n",
        "\tprint(li[-5:])\n",
        "printList()"
      ],
      "execution_count": null,
      "outputs": [
        {
          "output_type": "stream",
          "text": [
            "[256, 289, 324, 361, 400]\n"
          ],
          "name": "stdout"
        }
      ]
    },
    {
      "cell_type": "markdown",
      "metadata": {
        "id": "Fq0XgwZiEa0s"
      },
      "source": [
        "# **Question 39:**\n",
        "Define a function which can generate a list where the values are square of numbers between 1 and 20 (both included). Then the function needs to print all values except the first 5 elements in the list.\n",
        "\n",
        "**Hints:\n",
        "Use ** operator to get power of a number.\n",
        "Use range() for loops.\n",
        "Use list.append() to add values into a list.\n",
        "Use [n1:n2] to slice a list**\n",
        "\n",
        "\n"
      ]
    },
    {
      "cell_type": "markdown",
      "metadata": {
        "id": "CulY44JIEkhv"
      },
      "source": [
        "# **Solution:**"
      ]
    },
    {
      "cell_type": "code",
      "metadata": {
        "id": "MNzbukbKEh5a",
        "outputId": "5fbc640f-db72-4321-93d0-24caf56ff4fe",
        "colab": {
          "base_uri": "https://localhost:8080/",
          "height": 34
        }
      },
      "source": [
        "def printList():\n",
        "\tli=list()\n",
        "\tfor i in range(1,21):\n",
        "\t\tli.append(i**2)\n",
        "\tprint(li[5:])\n",
        "printList()"
      ],
      "execution_count": null,
      "outputs": [
        {
          "output_type": "stream",
          "text": [
            "[36, 49, 64, 81, 100, 121, 144, 169, 196, 225, 256, 289, 324, 361, 400]\n"
          ],
          "name": "stdout"
        }
      ]
    },
    {
      "cell_type": "markdown",
      "metadata": {
        "id": "muyVwy7ME3Ul"
      },
      "source": [
        "# **Question 40:**\n",
        "Define a function which can generate and print a tuple where the value are square of numbers between 1 and 20 (both included). \n",
        "\n",
        "**Hints:Use ** operator to get power of a number.Use range() for loops.Use list.append() to add values into a list.\n",
        "Use tuple() to get a tuple from a list.**\n",
        "\n",
        "\n"
      ]
    },
    {
      "cell_type": "markdown",
      "metadata": {
        "id": "Y9ww5ybzFA8b"
      },
      "source": [
        "# **Solution:**"
      ]
    },
    {
      "cell_type": "code",
      "metadata": {
        "id": "xIoo2mqfE-Rr",
        "outputId": "6cdc4435-2c32-4e5f-b030-3b948acee72c",
        "colab": {
          "base_uri": "https://localhost:8080/",
          "height": 34
        }
      },
      "source": [
        "def printTuple():\n",
        "\tli=list()\n",
        "\tfor i in range(1,21):\n",
        "\t\tli.append(i**2)\n",
        "\tprint(tuple(li))\n",
        "printTuple()"
      ],
      "execution_count": null,
      "outputs": [
        {
          "output_type": "stream",
          "text": [
            "(1, 4, 9, 16, 25, 36, 49, 64, 81, 100, 121, 144, 169, 196, 225, 256, 289, 324, 361, 400)\n"
          ],
          "name": "stdout"
        }
      ]
    }
  ]
}
