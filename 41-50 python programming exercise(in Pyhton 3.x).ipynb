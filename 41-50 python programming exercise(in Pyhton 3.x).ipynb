{
  "nbformat": 4,
  "nbformat_minor": 0,
  "metadata": {
    "colab": {
      "name": "41-50 python programming exercise(in Pyhton 3x).ipynb",
      "provenance": [],
      "collapsed_sections": [],
      "authorship_tag": "ABX9TyMiOo6KxVV9VTEPth6qT/Il"
    },
    "kernelspec": {
      "name": "python3",
      "display_name": "Python 3"
    }
  },
  "cells": [
    {
      "cell_type": "markdown",
      "metadata": {
        "id": "bkfVqMXoJLlD"
      },
      "source": [
        "# **Question 41:**\n",
        "With a given tuple (1,2,3,4,5,6,7,8,9,10), write a program to print the first half values in one line and the last half values in next line. \n",
        "\n",
        "**Hints:\n",
        "Use [n1:n2] notation to get a slice from a tuple.**\n"
      ]
    },
    {
      "cell_type": "markdown",
      "metadata": {
        "id": "ZMgGsN1KJ0L9"
      },
      "source": [
        "# **Solution:**"
      ]
    },
    {
      "cell_type": "code",
      "metadata": {
        "id": "EvhGKwotJfZz",
        "outputId": "dded2519-f415-4d24-cfff-075e55acadee",
        "colab": {
          "base_uri": "https://localhost:8080/",
          "height": 51
        }
      },
      "source": [
        "tp=(1,2,3,4,5,6,7,8,9,10)\n",
        "tp1=tp[:5]\n",
        "tp2=tp[5:]\n",
        "print(tp1)\n",
        "print(tp2)"
      ],
      "execution_count": null,
      "outputs": [
        {
          "output_type": "stream",
          "text": [
            "(1, 2, 3, 4, 5)\n",
            "(6, 7, 8, 9, 10)\n"
          ],
          "name": "stdout"
        }
      ]
    },
    {
      "cell_type": "markdown",
      "metadata": {
        "id": "A4Vls8quJ7wu"
      },
      "source": [
        "# **Question 42:**\n",
        "Write a program to generate and print another tuple whose values are even numbers in the given tuple (1,2,3,4,5,6,7,8,9,10). \n",
        "\n",
        "**Hints: Use \"for\" to iterate the tuple. Use tuple() to generate a tuple from a list.**\n"
      ]
    },
    {
      "cell_type": "markdown",
      "metadata": {
        "id": "3J80hGSfKOS8"
      },
      "source": [
        "# **Solution:**"
      ]
    },
    {
      "cell_type": "code",
      "metadata": {
        "id": "t6BdDiGXKzFP",
        "outputId": "3dfe41ef-3699-406b-d844-016555808fb7",
        "colab": {
          "base_uri": "https://localhost:8080/",
          "height": 34
        }
      },
      "source": [
        "tp=(1,2,3,4,5,6,7,8,9,10)\n",
        "li=list()\n",
        "for i in range(0,len(tp)): \n",
        "  if tp[i]%2==0:\n",
        "    li.append(tp[i])\n",
        "tp2=tuple(li)\n",
        "print(tp2)"
      ],
      "execution_count": null,
      "outputs": [
        {
          "output_type": "stream",
          "text": [
            "(2, 4, 6, 8, 10)\n"
          ],
          "name": "stdout"
        }
      ]
    },
    {
      "cell_type": "markdown",
      "metadata": {
        "id": "soWNO7ztNDl8"
      },
      "source": [
        "# **Question 43:**\n",
        "Write a program which accepts a string as input to print \"Yes\" if the string is \"yes\" or \"YES\" or \"Yes\", otherwise print \"No\". \n",
        "\n",
        "**Hints:\n",
        "Use if statement to judge condition.**\n"
      ]
    },
    {
      "cell_type": "markdown",
      "metadata": {
        "id": "Lwi7UhWXY823"
      },
      "source": [
        "# **Solution:**"
      ]
    },
    {
      "cell_type": "code",
      "metadata": {
        "id": "4VRq5-ICNmNh",
        "outputId": "e18e85dd-dd43-436e-ce65-2af7a9ee5d44",
        "colab": {
          "base_uri": "https://localhost:8080/",
          "height": 51
        }
      },
      "source": [
        "s=input()\n",
        "if s==\"yes\" or s==\"YES\" or s==\"Yes\":\n",
        "    print(\"Yes\")\n",
        "else:\n",
        "    print(\"No\")"
      ],
      "execution_count": 16,
      "outputs": [
        {
          "output_type": "stream",
          "text": [
            "yes\n",
            "Yes\n"
          ],
          "name": "stdout"
        }
      ]
    },
    {
      "cell_type": "markdown",
      "metadata": {
        "id": "jm_e_lxLZft6"
      },
      "source": [
        "# **Question 44:**\n",
        "Write a program which can filter even numbers in a list by using filter function. The list is: [1,2,3,4,5,6,7,8,9,10].\n",
        "\n",
        "**Hints:\n",
        "Use filter() to filter some elements in a list.\n",
        "Use lambda to define anonymous functions.**\n"
      ]
    },
    {
      "cell_type": "markdown",
      "metadata": {
        "id": "tTkWVj2gZysk"
      },
      "source": [
        "# **Solution:**"
      ]
    },
    {
      "cell_type": "code",
      "metadata": {
        "id": "TdQZr_afZvuq",
        "outputId": "96d7d0b7-ea56-48ec-fba6-c58830f4cd0a",
        "colab": {
          "base_uri": "https://localhost:8080/",
          "height": 34
        }
      },
      "source": [
        "li = [1,2,3,4,5,6,7,8,9,10]\n",
        "evenNumbers = list(filter(lambda x: x%2==0, li))\n",
        "print(evenNumbers)"
      ],
      "execution_count": 15,
      "outputs": [
        {
          "output_type": "stream",
          "text": [
            "[2, 4, 6, 8, 10]\n"
          ],
          "name": "stdout"
        }
      ]
    },
    {
      "cell_type": "markdown",
      "metadata": {
        "id": "gDgd_vkiZ2AB"
      },
      "source": [
        "# **Question 45:**\n",
        "Write a program which can map() to make a list whose elements are square of elements in [1,2,3,4,5,6,7,8,9,10].\n",
        "\n",
        "**Hints:\n",
        "Use map() to generate a list.\n",
        "Use lambda to define anonymous functions.**\n"
      ]
    },
    {
      "cell_type": "markdown",
      "metadata": {
        "id": "QjwimJO5anNq"
      },
      "source": [
        "# **Solution:**"
      ]
    },
    {
      "cell_type": "code",
      "metadata": {
        "id": "x4voXhAlakr6",
        "outputId": "22aebc34-9acd-4950-d05b-394fbe6d01ac",
        "colab": {
          "base_uri": "https://localhost:8080/",
          "height": 34
        }
      },
      "source": [
        "li = [1,2,3,4,5,6,7,8,9,10]\n",
        "squaredNumbers = list(map(lambda x: x**2, li))\n",
        "print(squaredNumbers)"
      ],
      "execution_count": 13,
      "outputs": [
        {
          "output_type": "stream",
          "text": [
            "[1, 4, 9, 16, 25, 36, 49, 64, 81, 100]\n"
          ],
          "name": "stdout"
        }
      ]
    },
    {
      "cell_type": "markdown",
      "metadata": {
        "id": "QCqxRP6IaqLM"
      },
      "source": [
        "## **Question 46:**\n",
        "Write a program which can map() and filter() to make a list whose elements are square of even number in [1,2,3,4,5,6,7,8,9,10].\n",
        "\n",
        "**Hints:\n",
        "Use map() to generate a list.\n",
        "Use filter() to filter elements of a list.\n",
        "Use lambda to define anonymous functions.**"
      ]
    },
    {
      "cell_type": "markdown",
      "metadata": {
        "id": "HBofav2rbK_t"
      },
      "source": [
        "# **Solution:**"
      ]
    },
    {
      "cell_type": "code",
      "metadata": {
        "id": "lEpi-3ICbS9p",
        "outputId": "6b9a3888-8f07-4ddc-9c77-5ab27d80943e",
        "colab": {
          "base_uri": "https://localhost:8080/",
          "height": 34
        }
      },
      "source": [
        "li = [1,2,3,4,5,6,7,8,9,10]\n",
        "evenNumbers = list(map(lambda x: x**2, filter(lambda x: x%2==0, li)))\n",
        "print(evenNumbers)"
      ],
      "execution_count": 10,
      "outputs": [
        {
          "output_type": "stream",
          "text": [
            "[4, 16, 36, 64, 100]\n"
          ],
          "name": "stdout"
        }
      ]
    },
    {
      "cell_type": "markdown",
      "metadata": {
        "id": "rdPm28K4bfqS"
      },
      "source": [
        "# **Question 47:**\n",
        "Write a program which can filter() to make a list whose elements are even number between 1 and 20 (both included).\n",
        "\n",
        "**Hints:\n",
        "Use filter() to filter elements of a list.\n",
        "Use lambda to define anonymous functions.**\n"
      ]
    },
    {
      "cell_type": "markdown",
      "metadata": {
        "id": "iDs2ZVXKcKxJ"
      },
      "source": [
        "# **Solution:**"
      ]
    },
    {
      "cell_type": "code",
      "metadata": {
        "id": "j7NjF3HDbtSW",
        "outputId": "e3728cdb-cacf-48c8-c20e-1b8d33f44eda",
        "colab": {
          "base_uri": "https://localhost:8080/",
          "height": 34
        }
      },
      "source": [
        "evenNumbers=[]\n",
        "evenNumbers = list(filter(lambda x: x%2==0, range(1,21)))\n",
        "print(evenNumbers)"
      ],
      "execution_count": 8,
      "outputs": [
        {
          "output_type": "stream",
          "text": [
            "[2, 4, 6, 8, 10, 12, 14, 16, 18, 20]\n"
          ],
          "name": "stdout"
        }
      ]
    },
    {
      "cell_type": "markdown",
      "metadata": {
        "id": "OBiilS37cP_0"
      },
      "source": [
        "# **Question 48:**\n",
        "Write a program which can map() to make a list whose elements are square of numbers between 1 and 20 (both included).\n",
        "\n",
        "**Hints: Use map() to generate a list. Use lambda to define anonymous functions.**"
      ]
    },
    {
      "cell_type": "markdown",
      "metadata": {
        "id": "bV7bbzk6ckcf"
      },
      "source": [
        "# **Solution:**"
      ]
    },
    {
      "cell_type": "code",
      "metadata": {
        "id": "XN-hhnmJcnbt",
        "outputId": "3300c5e8-8840-445e-86d5-1060a2fbc742",
        "colab": {
          "base_uri": "https://localhost:8080/",
          "height": 34
        }
      },
      "source": [
        "squareNumbers=[]\n",
        "squaredNumbers = list(map(lambda x: x**2, range(1,21)))\n",
        "print(squaredNumbers)"
      ],
      "execution_count": 11,
      "outputs": [
        {
          "output_type": "stream",
          "text": [
            "[1, 4, 9, 16, 25, 36, 49, 64, 81, 100, 121, 144, 169, 196, 225, 256, 289, 324, 361, 400]\n"
          ],
          "name": "stdout"
        }
      ]
    },
    {
      "cell_type": "markdown",
      "metadata": {
        "id": "Xs2ML65-dA3U"
      },
      "source": [
        "# **Question 49:**\n",
        "Define a class named American which has a static method called printNationality.\n",
        "\n",
        "**Hints: Use @staticmethod decorator to define class static method.**\n",
        "\n"
      ]
    },
    {
      "cell_type": "markdown",
      "metadata": {
        "id": "Ok6t5SNWdZNL"
      },
      "source": [
        "# **Solution:**"
      ]
    },
    {
      "cell_type": "code",
      "metadata": {
        "id": "oZUMWPy_dT5F",
        "outputId": "4b157398-8e24-4b58-c61d-c5c7dbda1a3a",
        "colab": {
          "base_uri": "https://localhost:8080/",
          "height": 51
        }
      },
      "source": [
        "class American(object):\n",
        "    @staticmethod\n",
        "    def printNationality():\n",
        "        print(\"America\")\n",
        "anAmerican = American()\n",
        "anAmerican.printNationality()\n",
        "American.printNationality()"
      ],
      "execution_count": null,
      "outputs": [
        {
          "output_type": "stream",
          "text": [
            "America\n",
            "America\n"
          ],
          "name": "stdout"
        }
      ]
    },
    {
      "cell_type": "markdown",
      "metadata": {
        "id": "L6tEhKVedmZ6"
      },
      "source": [
        "# **Question 50:**\n",
        "Define a class named American and its subclass NewYorker.\n",
        "\n",
        "**Hints:\n",
        "Use class Subclass(ParentClass) to define a subclass.**\n",
        "\n"
      ]
    },
    {
      "cell_type": "markdown",
      "metadata": {
        "id": "CXnhLGICd1pY"
      },
      "source": [
        "# **Solution:**"
      ]
    },
    {
      "cell_type": "code",
      "metadata": {
        "id": "qrW6TF9pdvLj",
        "outputId": "ce55ed56-7014-41b8-97c9-57915b0c6a49",
        "colab": {
          "base_uri": "https://localhost:8080/",
          "height": 51
        }
      },
      "source": [
        "class American(object):\n",
        "    pass\n",
        "class NewYorker(American):\n",
        "    pass\n",
        "\n",
        "anAmerican = American()\n",
        "aNewYorker = NewYorker()\n",
        "print(anAmerican)\n",
        "print(aNewYorker)"
      ],
      "execution_count": 25,
      "outputs": [
        {
          "output_type": "stream",
          "text": [
            "<__main__.American object at 0x7fee3f168b00>\n",
            "<__main__.NewYorker object at 0x7fee3f1689b0>\n"
          ],
          "name": "stdout"
        }
      ]
    }
  ]
}
